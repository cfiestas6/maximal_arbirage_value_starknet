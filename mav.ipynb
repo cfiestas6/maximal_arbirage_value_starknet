{
 "cells": [
  {
   "cell_type": "code",
   "execution_count": 2,
   "metadata": {},
   "outputs": [],
   "source": [
    "import pandas as pd\n",
    "import numpy as np\n",
    "import matplotlib.pyplot as plt\n",
    "import seaborn as sns\n",
    "import plotly.express as px"
   ]
  },
  {
   "cell_type": "code",
   "execution_count": 3,
   "metadata": {},
   "outputs": [],
   "source": [
    "df = pd.read_csv('binance_nostra_eth_usdc.csv')"
   ]
  },
  {
   "cell_type": "code",
   "execution_count": 19,
   "metadata": {},
   "outputs": [],
   "source": [
    "df.to_csv('binance_nostra_eth_usdc.csv', index=False)"
   ]
  },
  {
   "cell_type": "code",
   "execution_count": 4,
   "metadata": {},
   "outputs": [
    {
     "data": {
      "text/html": [
       "<div>\n",
       "<style scoped>\n",
       "    .dataframe tbody tr th:only-of-type {\n",
       "        vertical-align: middle;\n",
       "    }\n",
       "\n",
       "    .dataframe tbody tr th {\n",
       "        vertical-align: top;\n",
       "    }\n",
       "\n",
       "    .dataframe thead th {\n",
       "        text-align: right;\n",
       "    }\n",
       "</style>\n",
       "<table border=\"1\" class=\"dataframe\">\n",
       "  <thead>\n",
       "    <tr style=\"text-align: right;\">\n",
       "      <th></th>\n",
       "      <th>block_number</th>\n",
       "      <th>datetime_utc</th>\n",
       "      <th>price_nostra</th>\n",
       "      <th>price_binance</th>\n",
       "      <th>usdc_liquidity</th>\n",
       "      <th>eth_liquidity</th>\n",
       "      <th>mav</th>\n",
       "    </tr>\n",
       "  </thead>\n",
       "  <tbody>\n",
       "    <tr>\n",
       "      <th>0</th>\n",
       "      <td>514800</td>\n",
       "      <td>2024-01-22 14:05:48+00:00</td>\n",
       "      <td>2385.496183</td>\n",
       "      <td>2387.08</td>\n",
       "      <td>2.5</td>\n",
       "      <td>0.001048</td>\n",
       "      <td>2.755069e-07</td>\n",
       "    </tr>\n",
       "    <tr>\n",
       "      <th>1</th>\n",
       "      <td>514801</td>\n",
       "      <td>2024-01-22 14:06:51+00:00</td>\n",
       "      <td>2385.496183</td>\n",
       "      <td>2383.72</td>\n",
       "      <td>2.5</td>\n",
       "      <td>0.001048</td>\n",
       "      <td>3.464959e-07</td>\n",
       "    </tr>\n",
       "    <tr>\n",
       "      <th>2</th>\n",
       "      <td>514802</td>\n",
       "      <td>2024-01-22 14:07:45+00:00</td>\n",
       "      <td>2385.496183</td>\n",
       "      <td>2383.54</td>\n",
       "      <td>2.5</td>\n",
       "      <td>0.001048</td>\n",
       "      <td>4.202828e-07</td>\n",
       "    </tr>\n",
       "    <tr>\n",
       "      <th>3</th>\n",
       "      <td>514803</td>\n",
       "      <td>2024-01-22 14:08:37+00:00</td>\n",
       "      <td>2385.496183</td>\n",
       "      <td>2385.10</td>\n",
       "      <td>2.5</td>\n",
       "      <td>0.001048</td>\n",
       "      <td>1.723910e-08</td>\n",
       "    </tr>\n",
       "    <tr>\n",
       "      <th>4</th>\n",
       "      <td>514804</td>\n",
       "      <td>2024-01-22 14:09:51+00:00</td>\n",
       "      <td>2385.496183</td>\n",
       "      <td>2384.90</td>\n",
       "      <td>2.5</td>\n",
       "      <td>0.001048</td>\n",
       "      <td>3.903750e-08</td>\n",
       "    </tr>\n",
       "  </tbody>\n",
       "</table>\n",
       "</div>"
      ],
      "text/plain": [
       "   block_number               datetime_utc  price_nostra  price_binance  \\\n",
       "0        514800  2024-01-22 14:05:48+00:00   2385.496183        2387.08   \n",
       "1        514801  2024-01-22 14:06:51+00:00   2385.496183        2383.72   \n",
       "2        514802  2024-01-22 14:07:45+00:00   2385.496183        2383.54   \n",
       "3        514803  2024-01-22 14:08:37+00:00   2385.496183        2385.10   \n",
       "4        514804  2024-01-22 14:09:51+00:00   2385.496183        2384.90   \n",
       "\n",
       "   usdc_liquidity  eth_liquidity           mav  \n",
       "0             2.5       0.001048  2.755069e-07  \n",
       "1             2.5       0.001048  3.464959e-07  \n",
       "2             2.5       0.001048  4.202828e-07  \n",
       "3             2.5       0.001048  1.723910e-08  \n",
       "4             2.5       0.001048  3.903750e-08  "
      ]
     },
     "execution_count": 4,
     "metadata": {},
     "output_type": "execute_result"
    }
   ],
   "source": [
    "df.head()"
   ]
  },
  {
   "cell_type": "markdown",
   "metadata": {},
   "source": [
    "# Theory of Arbitrage and LVR\n",
    "\n",
    "Price disparities across different trading platforms (both DEXs and CEXs) present arbitrage opportunities. In this section, we calculate the transaction volume required to align prices between AMM-DEX and CEX, given the existing token reserves in an AMM liquidity pool. Trading this volume maximizes the arbitrageur’s profit, which is called net LVR, or the Maximal Arbitrage Value (MAV). For simplicity, we further assume that trading on the CEX has no price impact due to the typically higher reserves compared to AMM-DEXs.\n",
    "\n",
    "## Maximal Arbitrage Value\n",
    "\n",
    "Consider a scenario in which there is a price discrepancy between a CEX and an AMM, the CEX having a substantially higher market depth, resulting in zero market impact. Let \\(P_c\\) and \\(P_a\\) be the prices at CEX and AMM, respectively, and assume that \\(P_c < P_a\\). Let \\(V_{max}\\) denote the maximum trade volume that was bought on the CEX for \\(P_c\\) and sold on the AMM for \\(P_a\\) equals the prices. With \\(V_{max}\\) being the trading volume that equals the prices at AMM and CEX and percentage price impact \\(\\rho(V_{max})\\), MAV is defined as:\n",
    "\n",
    "$$\n",
    "MAV = V_{max} \\cdot \\left( P_a \\cdot (1 - \\rho(V_{max})) - P_c \\right)\n",
    "$$\n",
    "\n",
    "or equivalently\n",
    "\n",
    "$$\n",
    "MAV = V_{max} \\cdot (P_a - P_c) - V_{max} \\cdot P_a \\cdot \\rho(V_{max}).\n",
    "$$\n",
    "\n",
    "## Arbitrage between a CPMM and CEX\n",
    "\n",
    "Let us assume that we have two tokens \\(X\\) and \\(Y\\), the respective reserves in the liquidity pool of AMM are \\(x_1 = x\\) and \\(x_2 = y\\). Assuming that we are dealing with a CPMM, the act of trading follows the \\(x_1 \\cdot x_2 = x \\cdot y = L\\) formula, and the instantaneous exchange rate \\(P_a\\) for an infinitesimal trade is\n",
    "\n",
    "$$\n",
    "P_a = \\frac{x}{y}.\n",
    "$$\n",
    "\n",
    "and the percentage price impact on a CPMM (such as Uniswap v2) is given by \\(\\Delta x / x\\) for a swap of \\(\\Delta x\\) for \\(\\Delta y\\). The MAV can be expressed as:\n",
    "\n",
    "$$\n",
    "MAV = V_{max} \\cdot (P_a - P_c) - \\frac{V_{max}^2 P_a}{x},\n",
    "$$\n",
    "\n",
    "Following \\[13, 16\\] we can compute the first derivative of Eq. (3) with respect to \\(V_{max}\\) to find the max points, receiving:\n",
    "\n",
    "$$\n",
    "V_{max} = \\frac{y \\cdot (P_a - P_c)}{2P_a}.\n",
    "$$\n",
    "\n",
    "And, by substituting (4) into (3) the MAV is written as:\n",
    "\n",
    "$$\n",
    "MAV = \\frac{y \\cdot (P_a - P_c)^2}{4P_a}.\n",
    "$$\n"
   ]
  },
  {
   "cell_type": "code",
   "execution_count": 12,
   "metadata": {},
   "outputs": [],
   "source": [
    "def mav_cpmm(row):\n",
    "    y = row['eth_liquidity']\n",
    "    Pa = row['price_nostra']\n",
    "    Pc = row['price_binance']\n",
    "    if Pa == 0.0: return np.nan\n",
    "    return (y * (Pa - Pc)**2) / (4 * Pa)"
   ]
  },
  {
   "cell_type": "code",
   "execution_count": 69,
   "metadata": {},
   "outputs": [],
   "source": [
    "df['mav'] = df.apply(mav_cpmm, axis=1)"
   ]
  },
  {
   "cell_type": "code",
   "execution_count": 5,
   "metadata": {},
   "outputs": [
    {
     "data": {
      "text/plain": [
       "count    1.219450e+05\n",
       "mean     1.429993e+00\n",
       "std      1.157480e+01\n",
       "min      4.110983e-12\n",
       "25%      6.610572e-02\n",
       "50%      3.116398e-01\n",
       "75%      1.003038e+00\n",
       "max      2.485569e+03\n",
       "Name: mav, dtype: float64"
      ]
     },
     "execution_count": 5,
     "metadata": {},
     "output_type": "execute_result"
    }
   ],
   "source": [
    "df.mav.describe()"
   ]
  },
  {
   "cell_type": "code",
   "execution_count": 6,
   "metadata": {},
   "outputs": [
    {
     "data": {
      "text/html": [
       "<div>\n",
       "<style scoped>\n",
       "    .dataframe tbody tr th:only-of-type {\n",
       "        vertical-align: middle;\n",
       "    }\n",
       "\n",
       "    .dataframe tbody tr th {\n",
       "        vertical-align: top;\n",
       "    }\n",
       "\n",
       "    .dataframe thead th {\n",
       "        text-align: right;\n",
       "    }\n",
       "</style>\n",
       "<table border=\"1\" class=\"dataframe\">\n",
       "  <thead>\n",
       "    <tr style=\"text-align: right;\">\n",
       "      <th></th>\n",
       "      <th>block_number</th>\n",
       "      <th>datetime_utc</th>\n",
       "      <th>price_nostra</th>\n",
       "      <th>price_binance</th>\n",
       "      <th>usdc_liquidity</th>\n",
       "      <th>eth_liquidity</th>\n",
       "      <th>mav</th>\n",
       "    </tr>\n",
       "  </thead>\n",
       "  <tbody>\n",
       "    <tr>\n",
       "      <th>81203</th>\n",
       "      <td>596003</td>\n",
       "      <td>2024-02-29 17:01:48+00:00</td>\n",
       "      <td>3918.691811</td>\n",
       "      <td>3445.8</td>\n",
       "      <td>682722.947915</td>\n",
       "      <td>174.222159</td>\n",
       "      <td>2485.569306</td>\n",
       "    </tr>\n",
       "  </tbody>\n",
       "</table>\n",
       "</div>"
      ],
      "text/plain": [
       "       block_number               datetime_utc  price_nostra  price_binance  \\\n",
       "81203        596003  2024-02-29 17:01:48+00:00   3918.691811         3445.8   \n",
       "\n",
       "       usdc_liquidity  eth_liquidity          mav  \n",
       "81203   682722.947915     174.222159  2485.569306  "
      ]
     },
     "execution_count": 6,
     "metadata": {},
     "output_type": "execute_result"
    }
   ],
   "source": [
    "df[df.mav > 1000]"
   ]
  },
  {
   "cell_type": "code",
   "execution_count": 25,
   "metadata": {},
   "outputs": [],
   "source": [
    "# Approximate MAV to 2 decimal places\n",
    "df['mav'] = df['mav'].round(1)"
   ]
  },
  {
   "cell_type": "code",
   "execution_count": 33,
   "metadata": {},
   "outputs": [],
   "source": [
    "df['datetime_utc'] = pd.to_datetime(df['datetime_utc'])"
   ]
  },
  {
   "cell_type": "code",
   "execution_count": 46,
   "metadata": {},
   "outputs": [
    {
     "data": {
      "text/html": [
       "<div>\n",
       "<style scoped>\n",
       "    .dataframe tbody tr th:only-of-type {\n",
       "        vertical-align: middle;\n",
       "    }\n",
       "\n",
       "    .dataframe tbody tr th {\n",
       "        vertical-align: top;\n",
       "    }\n",
       "\n",
       "    .dataframe thead th {\n",
       "        text-align: right;\n",
       "    }\n",
       "</style>\n",
       "<table border=\"1\" class=\"dataframe\">\n",
       "  <thead>\n",
       "    <tr style=\"text-align: right;\">\n",
       "      <th></th>\n",
       "      <th>block_number</th>\n",
       "      <th>datetime_utc</th>\n",
       "      <th>price_nostra</th>\n",
       "      <th>price_binance</th>\n",
       "      <th>usdc_liquidity</th>\n",
       "      <th>eth_liquidity</th>\n",
       "      <th>mav</th>\n",
       "    </tr>\n",
       "  </thead>\n",
       "  <tbody>\n",
       "    <tr>\n",
       "      <th>5383</th>\n",
       "      <td>520183</td>\n",
       "      <td>2024-01-26 16:07:01+00:00</td>\n",
       "      <td>2204.598865</td>\n",
       "      <td>2268.74</td>\n",
       "      <td>77542.419374</td>\n",
       "      <td>35.173029</td>\n",
       "      <td>16.4</td>\n",
       "    </tr>\n",
       "    <tr>\n",
       "      <th>5384</th>\n",
       "      <td>520184</td>\n",
       "      <td>2024-01-26 16:07:55+00:00</td>\n",
       "      <td>2204.598865</td>\n",
       "      <td>2266.63</td>\n",
       "      <td>77542.419374</td>\n",
       "      <td>35.173029</td>\n",
       "      <td>15.4</td>\n",
       "    </tr>\n",
       "    <tr>\n",
       "      <th>5385</th>\n",
       "      <td>520185</td>\n",
       "      <td>2024-01-26 16:08:58+00:00</td>\n",
       "      <td>2204.598865</td>\n",
       "      <td>2267.64</td>\n",
       "      <td>77552.463873</td>\n",
       "      <td>35.177585</td>\n",
       "      <td>15.8</td>\n",
       "    </tr>\n",
       "    <tr>\n",
       "      <th>5388</th>\n",
       "      <td>520188</td>\n",
       "      <td>2024-01-26 16:13:52+00:00</td>\n",
       "      <td>2204.598865</td>\n",
       "      <td>2266.86</td>\n",
       "      <td>77552.463873</td>\n",
       "      <td>35.177585</td>\n",
       "      <td>15.5</td>\n",
       "    </tr>\n",
       "    <tr>\n",
       "      <th>5389</th>\n",
       "      <td>520189</td>\n",
       "      <td>2024-01-26 16:15:03+00:00</td>\n",
       "      <td>2204.598865</td>\n",
       "      <td>2266.74</td>\n",
       "      <td>77557.741929</td>\n",
       "      <td>35.179979</td>\n",
       "      <td>15.4</td>\n",
       "    </tr>\n",
       "  </tbody>\n",
       "</table>\n",
       "</div>"
      ],
      "text/plain": [
       "      block_number              datetime_utc  price_nostra  price_binance  \\\n",
       "5383        520183 2024-01-26 16:07:01+00:00   2204.598865        2268.74   \n",
       "5384        520184 2024-01-26 16:07:55+00:00   2204.598865        2266.63   \n",
       "5385        520185 2024-01-26 16:08:58+00:00   2204.598865        2267.64   \n",
       "5388        520188 2024-01-26 16:13:52+00:00   2204.598865        2266.86   \n",
       "5389        520189 2024-01-26 16:15:03+00:00   2204.598865        2266.74   \n",
       "\n",
       "      usdc_liquidity  eth_liquidity   mav  \n",
       "5383    77542.419374      35.173029  16.4  \n",
       "5384    77542.419374      35.173029  15.4  \n",
       "5385    77552.463873      35.177585  15.8  \n",
       "5388    77552.463873      35.177585  15.5  \n",
       "5389    77557.741929      35.179979  15.4  "
      ]
     },
     "execution_count": 46,
     "metadata": {},
     "output_type": "execute_result"
    }
   ],
   "source": [
    "P99 = df.mav.quantile(0.99)\n",
    "Q3 = df.mav.quantile(0.75)\n",
    "Q1 = df.mav.quantile(0.25)\n",
    "IQR = Q3 - Q1\n",
    "\n",
    "upper_outliers = df[df.mav > P99]\n",
    "\n",
    "upper_outliers.head()"
   ]
  },
  {
   "cell_type": "code",
   "execution_count": 52,
   "metadata": {},
   "outputs": [
    {
     "data": {
      "text/html": [
       "<div>\n",
       "<style scoped>\n",
       "    .dataframe tbody tr th:only-of-type {\n",
       "        vertical-align: middle;\n",
       "    }\n",
       "\n",
       "    .dataframe tbody tr th {\n",
       "        vertical-align: top;\n",
       "    }\n",
       "\n",
       "    .dataframe thead th {\n",
       "        text-align: right;\n",
       "    }\n",
       "</style>\n",
       "<table border=\"1\" class=\"dataframe\">\n",
       "  <thead>\n",
       "    <tr style=\"text-align: right;\">\n",
       "      <th></th>\n",
       "      <th>block_number</th>\n",
       "      <th>price_nostra</th>\n",
       "      <th>price_binance</th>\n",
       "      <th>usdc_liquidity</th>\n",
       "      <th>eth_liquidity</th>\n",
       "      <th>mav</th>\n",
       "    </tr>\n",
       "  </thead>\n",
       "  <tbody>\n",
       "    <tr>\n",
       "      <th>count</th>\n",
       "      <td>1218.000000</td>\n",
       "      <td>1218.000000</td>\n",
       "      <td>1218.000000</td>\n",
       "      <td>1218.000000</td>\n",
       "      <td>1218.000000</td>\n",
       "      <td>1218.000000</td>\n",
       "    </tr>\n",
       "    <tr>\n",
       "      <th>mean</th>\n",
       "      <td>567333.064039</td>\n",
       "      <td>3022.227330</td>\n",
       "      <td>3019.497200</td>\n",
       "      <td>449091.712839</td>\n",
       "      <td>145.654018</td>\n",
       "      <td>53.799507</td>\n",
       "    </tr>\n",
       "    <tr>\n",
       "      <th>std</th>\n",
       "      <td>26639.495974</td>\n",
       "      <td>409.147818</td>\n",
       "      <td>390.197755</td>\n",
       "      <td>150335.169129</td>\n",
       "      <td>43.280691</td>\n",
       "      <td>101.908354</td>\n",
       "    </tr>\n",
       "    <tr>\n",
       "      <th>min</th>\n",
       "      <td>520183.000000</td>\n",
       "      <td>2204.598864</td>\n",
       "      <td>2263.890000</td>\n",
       "      <td>77542.419374</td>\n",
       "      <td>35.173029</td>\n",
       "      <td>14.700000</td>\n",
       "    </tr>\n",
       "    <tr>\n",
       "      <th>25%</th>\n",
       "      <td>557323.250000</td>\n",
       "      <td>2884.147383</td>\n",
       "      <td>2926.680000</td>\n",
       "      <td>444406.393894</td>\n",
       "      <td>150.267338</td>\n",
       "      <td>18.100000</td>\n",
       "    </tr>\n",
       "    <tr>\n",
       "      <th>50%</th>\n",
       "      <td>558135.500000</td>\n",
       "      <td>2976.489038</td>\n",
       "      <td>2944.690000</td>\n",
       "      <td>454290.014153</td>\n",
       "      <td>153.053811</td>\n",
       "      <td>25.100000</td>\n",
       "    </tr>\n",
       "    <tr>\n",
       "      <th>75%</th>\n",
       "      <td>594726.750000</td>\n",
       "      <td>3311.542606</td>\n",
       "      <td>3259.297500</td>\n",
       "      <td>495352.737046</td>\n",
       "      <td>167.388526</td>\n",
       "      <td>49.800000</td>\n",
       "    </tr>\n",
       "    <tr>\n",
       "      <th>max</th>\n",
       "      <td>632434.000000</td>\n",
       "      <td>4048.187193</td>\n",
       "      <td>4003.940000</td>\n",
       "      <td>682722.947915</td>\n",
       "      <td>216.500072</td>\n",
       "      <td>2485.600000</td>\n",
       "    </tr>\n",
       "  </tbody>\n",
       "</table>\n",
       "</div>"
      ],
      "text/plain": [
       "        block_number  price_nostra  price_binance  usdc_liquidity  \\\n",
       "count    1218.000000   1218.000000    1218.000000     1218.000000   \n",
       "mean   567333.064039   3022.227330    3019.497200   449091.712839   \n",
       "std     26639.495974    409.147818     390.197755   150335.169129   \n",
       "min    520183.000000   2204.598864    2263.890000    77542.419374   \n",
       "25%    557323.250000   2884.147383    2926.680000   444406.393894   \n",
       "50%    558135.500000   2976.489038    2944.690000   454290.014153   \n",
       "75%    594726.750000   3311.542606    3259.297500   495352.737046   \n",
       "max    632434.000000   4048.187193    4003.940000   682722.947915   \n",
       "\n",
       "       eth_liquidity          mav  \n",
       "count    1218.000000  1218.000000  \n",
       "mean      145.654018    53.799507  \n",
       "std        43.280691   101.908354  \n",
       "min        35.173029    14.700000  \n",
       "25%       150.267338    18.100000  \n",
       "50%       153.053811    25.100000  \n",
       "75%       167.388526    49.800000  \n",
       "max       216.500072  2485.600000  "
      ]
     },
     "execution_count": 52,
     "metadata": {},
     "output_type": "execute_result"
    }
   ],
   "source": [
    "upper_outliers.describe()"
   ]
  },
  {
   "cell_type": "code",
   "execution_count": 60,
   "metadata": {},
   "outputs": [
    {
     "data": {
      "image/png": "[encoded data removed]",
      "text/plain": [
       "<Figure size 1000x600 with 1 Axes>"
      ]
     },
     "metadata": {},
     "output_type": "display_data"
    }
   ],
   "source": [
    "plt.figure(figsize=(10, 6))\n",
    "sns.histplot(df[df.mav < P99].mav, bins=50, kde=True, color='blue')\n",
    "plt.title('Distribution of MAV')\n",
    "plt.xlabel('MAV')\n",
    "plt.ylabel('Frequency')\n",
    "plt.axvline(P99, color='red', linestyle='--', label='P99')\n",
    "plt.axvline(Q3, color='green', linestyle='--', label='Q3')\n",
    "plt.legend()\n",
    "plt.show()"
   ]
  },
  {
   "cell_type": "code",
   "execution_count": 53,
   "metadata": {},
   "outputs": [
    {
     "data": {
      "image/png": "[encoded data removed]",
      "text/plain": [
       "<Figure size 1200x600 with 1 Axes>"
      ]
     },
     "metadata": {},
     "output_type": "display_data"
    }
   ],
   "source": [
    "plt.figure(figsize=(12, 6))\n",
    "sns.boxplot(x='mav', data=upper_outliers)\n",
    "plt.title('Boxplot of MAV in the upper outliers')\n",
    "plt.show()"
   ]
  },
  {
   "cell_type": "code",
   "execution_count": 67,
   "metadata": {},
   "outputs": [
    {
     "data": {
      "image/png": "[encoded data removed]",
      "text/plain": [
       "<Figure size 1800x900 with 1 Axes>"
      ]
     },
     "metadata": {},
     "output_type": "display_data"
    }
   ],
   "source": [
    "# Plotting the MAV, Maximal Arbitrage Value. Logarithmic scale\n",
    "plt.figure(figsize=(18, 9))\n",
    "plt.plot(upper_outliers['datetime_utc'], upper_outliers['mav'])\n",
    "plt.title('Maximal Arbitrage Value (MAV) over time')\n",
    "plt.ylabel('MAV')\n",
    "plt.xlabel('Date')\n",
    "plt.show()\n"
   ]
  },
  {
   "cell_type": "code",
   "execution_count": 50,
   "metadata": {},
   "outputs": [
    {
     "data": {
      "text/html": [
       "<div>\n",
       "<style scoped>\n",
       "    .dataframe tbody tr th:only-of-type {\n",
       "        vertical-align: middle;\n",
       "    }\n",
       "\n",
       "    .dataframe tbody tr th {\n",
       "        vertical-align: top;\n",
       "    }\n",
       "\n",
       "    .dataframe thead th {\n",
       "        text-align: right;\n",
       "    }\n",
       "</style>\n",
       "<table border=\"1\" class=\"dataframe\">\n",
       "  <thead>\n",
       "    <tr style=\"text-align: right;\">\n",
       "      <th></th>\n",
       "      <th>block_number</th>\n",
       "      <th>datetime_utc</th>\n",
       "      <th>price_nostra</th>\n",
       "      <th>price_binance</th>\n",
       "      <th>usdc_liquidity</th>\n",
       "      <th>eth_liquidity</th>\n",
       "      <th>mav</th>\n",
       "    </tr>\n",
       "  </thead>\n",
       "  <tbody>\n",
       "    <tr>\n",
       "      <th>81203</th>\n",
       "      <td>596003</td>\n",
       "      <td>2024-02-29 17:01:48+00:00</td>\n",
       "      <td>3918.691811</td>\n",
       "      <td>3445.8</td>\n",
       "      <td>682722.947915</td>\n",
       "      <td>174.222159</td>\n",
       "      <td>2485.6</td>\n",
       "    </tr>\n",
       "  </tbody>\n",
       "</table>\n",
       "</div>"
      ],
      "text/plain": [
       "       block_number              datetime_utc  price_nostra  price_binance  \\\n",
       "81203        596003 2024-02-29 17:01:48+00:00   3918.691811         3445.8   \n",
       "\n",
       "       usdc_liquidity  eth_liquidity     mav  \n",
       "81203   682722.947915     174.222159  2485.6  "
      ]
     },
     "execution_count": 50,
     "metadata": {},
     "output_type": "execute_result"
    }
   ],
   "source": [
    "# Identify the max MAV\n",
    "max_mav = df[df.mav == df.mav.max()]\n",
    "\n",
    "max_mav"
   ]
  },
  {
   "cell_type": "code",
   "execution_count": 7,
   "metadata": {},
   "outputs": [
    {
     "data": {
      "text/plain": [
       "174380.45666355453"
      ]
     },
     "execution_count": 7,
     "metadata": {},
     "output_type": "execute_result"
    }
   ],
   "source": [
    "total_mav = df.mav.sum()\n",
    "\n",
    "float(total_mav)\n"
   ]
  },
  {
   "cell_type": "code",
   "execution_count": 29,
   "metadata": {},
   "outputs": [
    {
     "data": {
      "text/html": [
       "<div>\n",
       "<style scoped>\n",
       "    .dataframe tbody tr th:only-of-type {\n",
       "        vertical-align: middle;\n",
       "    }\n",
       "\n",
       "    .dataframe tbody tr th {\n",
       "        vertical-align: top;\n",
       "    }\n",
       "\n",
       "    .dataframe thead th {\n",
       "        text-align: right;\n",
       "    }\n",
       "</style>\n",
       "<table border=\"1\" class=\"dataframe\">\n",
       "  <thead>\n",
       "    <tr style=\"text-align: right;\">\n",
       "      <th></th>\n",
       "      <th>Chain</th>\n",
       "      <th>MAV</th>\n",
       "    </tr>\n",
       "  </thead>\n",
       "  <tbody>\n",
       "    <tr>\n",
       "      <th>1</th>\n",
       "      <td>Arbitrum (USDC.e)</td>\n",
       "      <td>2.707009e+06</td>\n",
       "    </tr>\n",
       "    <tr>\n",
       "      <th>0</th>\n",
       "      <td>Arbitrum</td>\n",
       "      <td>2.699033e+06</td>\n",
       "    </tr>\n",
       "    <tr>\n",
       "      <th>2</th>\n",
       "      <td>Base</td>\n",
       "      <td>1.293772e+06</td>\n",
       "    </tr>\n",
       "    <tr>\n",
       "      <th>3</th>\n",
       "      <td>Optimism (USDC.e)</td>\n",
       "      <td>6.908684e+05</td>\n",
       "    </tr>\n",
       "    <tr>\n",
       "      <th>5</th>\n",
       "      <td>Starknet (Nostra V2)</td>\n",
       "      <td>1.743805e+05</td>\n",
       "    </tr>\n",
       "    <tr>\n",
       "      <th>4</th>\n",
       "      <td>zkSync Era (USDC.e)</td>\n",
       "      <td>2.011031e+04</td>\n",
       "    </tr>\n",
       "  </tbody>\n",
       "</table>\n",
       "</div>"
      ],
      "text/plain": [
       "                  Chain           MAV\n",
       "1     Arbitrum (USDC.e)  2.707009e+06\n",
       "0              Arbitrum  2.699033e+06\n",
       "2                  Base  1.293772e+06\n",
       "3     Optimism (USDC.e)  6.908684e+05\n",
       "5  Starknet (Nostra V2)  1.743805e+05\n",
       "4   zkSync Era (USDC.e)  2.011031e+04"
      ]
     },
     "execution_count": 29,
     "metadata": {},
     "output_type": "execute_result"
    }
   ],
   "source": [
    "data = {\n",
    "    \"Chain\": [\n",
    "        \"Arbitrum\",\n",
    "        \"Arbitrum (USDC.e)\",\n",
    "        \"Base\",\n",
    "        \"Optimism (USDC.e)\",\n",
    "        \"zkSync Era (USDC.e)\",\n",
    "        \"Starknet (Nostra V2)\"\n",
    "    ],\n",
    "    \"MAV\": [\n",
    "        2699032.60,\n",
    "        2707008.96,\n",
    "        1293771.96,\n",
    "        690868.44,\n",
    "        20110.31,\n",
    "        total_mav\n",
    "    ]\n",
    "}\n",
    "\n",
    "df_mav = pd.DataFrame(data)\n",
    "df_mav = df_mav.sort_values(by='MAV', ascending=False)\n",
    "df_mav"
   ]
  },
  {
   "cell_type": "code",
   "execution_count": 46,
   "metadata": {},
   "outputs": [
    {
     "data": {
      "application/vnd.plotly.v1+json": {
       "config": {
        "plotlyServerURL": "https://plot.ly"
       },
       "data": [
        {
         "alignmentgroup": "True",
         "hovertemplate": "color=Normal<br>MAV=%{x}<br>Chain=%{y}<extra></extra>",
         "legendgroup": "Normal",
         "marker": {
          "color": "#636efa",
          "pattern": {
           "shape": ""
          }
         },
         "name": "Normal",
         "offsetgroup": "Normal",
         "orientation": "h",
         "showlegend": true,
         "textposition": "outside",
         "texttemplate": "%{x:.2s}",
         "type": "bar",
         "x": [
          2707008.96,
          2699032.6,
          1293771.96,
          690868.44,
          20110.31
         ],
         "xaxis": "x",
         "y": [
          "Arbitrum (USDC.e)",
          "Arbitrum",
          "Base",
          "Optimism (USDC.e)",
          "zkSync Era (USDC.e)"
         ],
         "yaxis": "y"
        },
        {
         "alignmentgroup": "True",
         "hovertemplate": "color=Highlighted<br>MAV=%{x}<br>Chain=%{y}<extra></extra>",
         "legendgroup": "Highlighted",
         "marker": {
          "color": "#EF553B",
          "pattern": {
           "shape": ""
          }
         },
         "name": "Highlighted",
         "offsetgroup": "Highlighted",
         "orientation": "h",
         "showlegend": true,
         "textposition": "outside",
         "texttemplate": "%{x:.2s}",
         "type": "bar",
         "x": [
          174380.45666355453
         ],
         "xaxis": "x",
         "y": [
          "Starknet (Nostra V2)"
         ],
         "yaxis": "y"
        }
       ],
       "layout": {
        "barmode": "relative",
        "legend": {
         "title": {
          "text": "color"
         },
         "tracegroupgap": 0
        },
        "showlegend": false,
        "template": {
         "data": {
          "bar": [
           {
            "error_x": {
             "color": "#2a3f5f"
            },
            "error_y": {
             "color": "#2a3f5f"
            },
            "marker": {
             "line": {
              "color": "#E5ECF6",
              "width": 0.5
             },
             "pattern": {
              "fillmode": "overlay",
              "size": 10,
              "solidity": 0.2
             }
            },
            "type": "bar"
           }
          ],
          "barpolar": [
           {
            "marker": {
             "line": {
              "color": "#E5ECF6",
              "width": 0.5
             },
             "pattern": {
              "fillmode": "overlay",
              "size": 10,
              "solidity": 0.2
             }
            },
            "type": "barpolar"
           }
          ],
          "carpet": [
           {
            "aaxis": {
             "endlinecolor": "#2a3f5f",
             "gridcolor": "white",
             "linecolor": "white",
             "minorgridcolor": "white",
             "startlinecolor": "#2a3f5f"
            },
            "baxis": {
             "endlinecolor": "#2a3f5f",
             "gridcolor": "white",
             "linecolor": "white",
             "minorgridcolor": "white",
             "startlinecolor": "#2a3f5f"
            },
            "type": "carpet"
           }
          ],
          "choropleth": [
           {
            "colorbar": {
             "outlinewidth": 0,
             "ticks": ""
            },
            "type": "choropleth"
           }
          ],
          "contour": [
           {
            "colorbar": {
             "outlinewidth": 0,
             "ticks": ""
            },
            "colorscale": [
             [
              0,
              "#0d0887"
             ],
             [
              0.1111111111111111,
              "#46039f"
             ],
             [
              0.2222222222222222,
              "#7201a8"
             ],
             [
              0.3333333333333333,
              "#9c179e"
             ],
             [
              0.4444444444444444,
              "#bd3786"
             ],
             [
              0.5555555555555556,
              "#d8576b"
             ],
             [
              0.6666666666666666,
              "#ed7953"
             ],
             [
              0.7777777777777778,
              "#fb9f3a"
             ],
             [
              0.8888888888888888,
              "#fdca26"
             ],
             [
              1,
              "#f0f921"
             ]
            ],
            "type": "contour"
           }
          ],
          "contourcarpet": [
           {
            "colorbar": {
             "outlinewidth": 0,
             "ticks": ""
            },
            "type": "contourcarpet"
           }
          ],
          "heatmap": [
           {
            "colorbar": {
             "outlinewidth": 0,
             "ticks": ""
            },
            "colorscale": [
             [
              0,
              "#0d0887"
             ],
             [
              0.1111111111111111,
              "#46039f"
             ],
             [
              0.2222222222222222,
              "#7201a8"
             ],
             [
              0.3333333333333333,
              "#9c179e"
             ],
             [
              0.4444444444444444,
              "#bd3786"
             ],
             [
              0.5555555555555556,
              "#d8576b"
             ],
             [
              0.6666666666666666,
              "#ed7953"
             ],
             [
              0.7777777777777778,
              "#fb9f3a"
             ],
             [
              0.8888888888888888,
              "#fdca26"
             ],
             [
              1,
              "#f0f921"
             ]
            ],
            "type": "heatmap"
           }
          ],
          "heatmapgl": [
           {
            "colorbar": {
             "outlinewidth": 0,
             "ticks": ""
            },
            "colorscale": [
             [
              0,
              "#0d0887"
             ],
             [
              0.1111111111111111,
              "#46039f"
             ],
             [
              0.2222222222222222,
              "#7201a8"
             ],
             [
              0.3333333333333333,
              "#9c179e"
             ],
             [
              0.4444444444444444,
              "#bd3786"
             ],
             [
              0.5555555555555556,
              "#d8576b"
             ],
             [
              0.6666666666666666,
              "#ed7953"
             ],
             [
              0.7777777777777778,
              "#fb9f3a"
             ],
             [
              0.8888888888888888,
              "#fdca26"
             ],
             [
              1,
              "#f0f921"
             ]
            ],
            "type": "heatmapgl"
           }
          ],
          "histogram": [
           {
            "marker": {
             "pattern": {
              "fillmode": "overlay",
              "size": 10,
              "solidity": 0.2
             }
            },
            "type": "histogram"
           }
          ],
          "histogram2d": [
           {
            "colorbar": {
             "outlinewidth": 0,
             "ticks": ""
            },
            "colorscale": [
             [
              0,
              "#0d0887"
             ],
             [
              0.1111111111111111,
              "#46039f"
             ],
             [
              0.2222222222222222,
              "#7201a8"
             ],
             [
              0.3333333333333333,
              "#9c179e"
             ],
             [
              0.4444444444444444,
              "#bd3786"
             ],
             [
              0.5555555555555556,
              "#d8576b"
             ],
             [
              0.6666666666666666,
              "#ed7953"
             ],
             [
              0.7777777777777778,
              "#fb9f3a"
             ],
             [
              0.8888888888888888,
              "#fdca26"
             ],
             [
              1,
              "#f0f921"
             ]
            ],
            "type": "histogram2d"
           }
          ],
          "histogram2dcontour": [
           {
            "colorbar": {
             "outlinewidth": 0,
             "ticks": ""
            },
            "colorscale": [
             [
              0,
              "#0d0887"
             ],
             [
              0.1111111111111111,
              "#46039f"
             ],
             [
              0.2222222222222222,
              "#7201a8"
             ],
             [
              0.3333333333333333,
              "#9c179e"
             ],
             [
              0.4444444444444444,
              "#bd3786"
             ],
             [
              0.5555555555555556,
              "#d8576b"
             ],
             [
              0.6666666666666666,
              "#ed7953"
             ],
             [
              0.7777777777777778,
              "#fb9f3a"
             ],
             [
              0.8888888888888888,
              "#fdca26"
             ],
             [
              1,
              "#f0f921"
             ]
            ],
            "type": "histogram2dcontour"
           }
          ],
          "mesh3d": [
           {
            "colorbar": {
             "outlinewidth": 0,
             "ticks": ""
            },
            "type": "mesh3d"
           }
          ],
          "parcoords": [
           {
            "line": {
             "colorbar": {
              "outlinewidth": 0,
              "ticks": ""
             }
            },
            "type": "parcoords"
           }
          ],
          "pie": [
           {
            "automargin": true,
            "type": "pie"
           }
          ],
          "scatter": [
           {
            "fillpattern": {
             "fillmode": "overlay",
             "size": 10,
             "solidity": 0.2
            },
            "type": "scatter"
           }
          ],
          "scatter3d": [
           {
            "line": {
             "colorbar": {
              "outlinewidth": 0,
              "ticks": ""
             }
            },
            "marker": {
             "colorbar": {
              "outlinewidth": 0,
              "ticks": ""
             }
            },
            "type": "scatter3d"
           }
          ],
          "scattercarpet": [
           {
            "marker": {
             "colorbar": {
              "outlinewidth": 0,
              "ticks": ""
             }
            },
            "type": "scattercarpet"
           }
          ],
          "scattergeo": [
           {
            "marker": {
             "colorbar": {
              "outlinewidth": 0,
              "ticks": ""
             }
            },
            "type": "scattergeo"
           }
          ],
          "scattergl": [
           {
            "marker": {
             "colorbar": {
              "outlinewidth": 0,
              "ticks": ""
             }
            },
            "type": "scattergl"
           }
          ],
          "scattermapbox": [
           {
            "marker": {
             "colorbar": {
              "outlinewidth": 0,
              "ticks": ""
             }
            },
            "type": "scattermapbox"
           }
          ],
          "scatterpolar": [
           {
            "marker": {
             "colorbar": {
              "outlinewidth": 0,
              "ticks": ""
             }
            },
            "type": "scatterpolar"
           }
          ],
          "scatterpolargl": [
           {
            "marker": {
             "colorbar": {
              "outlinewidth": 0,
              "ticks": ""
             }
            },
            "type": "scatterpolargl"
           }
          ],
          "scatterternary": [
           {
            "marker": {
             "colorbar": {
              "outlinewidth": 0,
              "ticks": ""
             }
            },
            "type": "scatterternary"
           }
          ],
          "surface": [
           {
            "colorbar": {
             "outlinewidth": 0,
             "ticks": ""
            },
            "colorscale": [
             [
              0,
              "#0d0887"
             ],
             [
              0.1111111111111111,
              "#46039f"
             ],
             [
              0.2222222222222222,
              "#7201a8"
             ],
             [
              0.3333333333333333,
              "#9c179e"
             ],
             [
              0.4444444444444444,
              "#bd3786"
             ],
             [
              0.5555555555555556,
              "#d8576b"
             ],
             [
              0.6666666666666666,
              "#ed7953"
             ],
             [
              0.7777777777777778,
              "#fb9f3a"
             ],
             [
              0.8888888888888888,
              "#fdca26"
             ],
             [
              1,
              "#f0f921"
             ]
            ],
            "type": "surface"
           }
          ],
          "table": [
           {
            "cells": {
             "fill": {
              "color": "#EBF0F8"
             },
             "line": {
              "color": "white"
             }
            },
            "header": {
             "fill": {
              "color": "#C8D4E3"
             },
             "line": {
              "color": "white"
             }
            },
            "type": "table"
           }
          ]
         },
         "layout": {
          "annotationdefaults": {
           "arrowcolor": "#2a3f5f",
           "arrowhead": 0,
           "arrowwidth": 1
          },
          "autotypenumbers": "strict",
          "coloraxis": {
           "colorbar": {
            "outlinewidth": 0,
            "ticks": ""
           }
          },
          "colorscale": {
           "diverging": [
            [
             0,
             "#8e0152"
            ],
            [
             0.1,
             "#c51b7d"
            ],
            [
             0.2,
             "#de77ae"
            ],
            [
             0.3,
             "#f1b6da"
            ],
            [
             0.4,
             "#fde0ef"
            ],
            [
             0.5,
             "#f7f7f7"
            ],
            [
             0.6,
             "#e6f5d0"
            ],
            [
             0.7,
             "#b8e186"
            ],
            [
             0.8,
             "#7fbc41"
            ],
            [
             0.9,
             "#4d9221"
            ],
            [
             1,
             "#276419"
            ]
           ],
           "sequential": [
            [
             0,
             "#0d0887"
            ],
            [
             0.1111111111111111,
             "#46039f"
            ],
            [
             0.2222222222222222,
             "#7201a8"
            ],
            [
             0.3333333333333333,
             "#9c179e"
            ],
            [
             0.4444444444444444,
             "#bd3786"
            ],
            [
             0.5555555555555556,
             "#d8576b"
            ],
            [
             0.6666666666666666,
             "#ed7953"
            ],
            [
             0.7777777777777778,
             "#fb9f3a"
            ],
            [
             0.8888888888888888,
             "#fdca26"
            ],
            [
             1,
             "#f0f921"
            ]
           ],
           "sequentialminus": [
            [
             0,
             "#0d0887"
            ],
            [
             0.1111111111111111,
             "#46039f"
            ],
            [
             0.2222222222222222,
             "#7201a8"
            ],
            [
             0.3333333333333333,
             "#9c179e"
            ],
            [
             0.4444444444444444,
             "#bd3786"
            ],
            [
             0.5555555555555556,
             "#d8576b"
            ],
            [
             0.6666666666666666,
             "#ed7953"
            ],
            [
             0.7777777777777778,
             "#fb9f3a"
            ],
            [
             0.8888888888888888,
             "#fdca26"
            ],
            [
             1,
             "#f0f921"
            ]
           ]
          },
          "colorway": [
           "#636efa",
           "#EF553B",
           "#00cc96",
           "#ab63fa",
           "#FFA15A",
           "#19d3f3",
           "#FF6692",
           "#B6E880",
           "#FF97FF",
           "#FECB52"
          ],
          "font": {
           "color": "#2a3f5f"
          },
          "geo": {
           "bgcolor": "white",
           "lakecolor": "white",
           "landcolor": "#E5ECF6",
           "showlakes": true,
           "showland": true,
           "subunitcolor": "white"
          },
          "hoverlabel": {
           "align": "left"
          },
          "hovermode": "closest",
          "mapbox": {
           "style": "light"
          },
          "paper_bgcolor": "white",
          "plot_bgcolor": "#E5ECF6",
          "polar": {
           "angularaxis": {
            "gridcolor": "white",
            "linecolor": "white",
            "ticks": ""
           },
           "bgcolor": "#E5ECF6",
           "radialaxis": {
            "gridcolor": "white",
            "linecolor": "white",
            "ticks": ""
           }
          },
          "scene": {
           "xaxis": {
            "backgroundcolor": "#E5ECF6",
            "gridcolor": "white",
            "gridwidth": 2,
            "linecolor": "white",
            "showbackground": true,
            "ticks": "",
            "zerolinecolor": "white"
           },
           "yaxis": {
            "backgroundcolor": "#E5ECF6",
            "gridcolor": "white",
            "gridwidth": 2,
            "linecolor": "white",
            "showbackground": true,
            "ticks": "",
            "zerolinecolor": "white"
           },
           "zaxis": {
            "backgroundcolor": "#E5ECF6",
            "gridcolor": "white",
            "gridwidth": 2,
            "linecolor": "white",
            "showbackground": true,
            "ticks": "",
            "zerolinecolor": "white"
           }
          },
          "shapedefaults": {
           "line": {
            "color": "#2a3f5f"
           }
          },
          "ternary": {
           "aaxis": {
            "gridcolor": "white",
            "linecolor": "white",
            "ticks": ""
           },
           "baxis": {
            "gridcolor": "white",
            "linecolor": "white",
            "ticks": ""
           },
           "bgcolor": "#E5ECF6",
           "caxis": {
            "gridcolor": "white",
            "linecolor": "white",
            "ticks": ""
           }
          },
          "title": {
           "x": 0.05
          },
          "xaxis": {
           "automargin": true,
           "gridcolor": "white",
           "linecolor": "white",
           "ticks": "",
           "title": {
            "standoff": 15
           },
           "zerolinecolor": "white",
           "zerolinewidth": 2
          },
          "yaxis": {
           "automargin": true,
           "gridcolor": "white",
           "linecolor": "white",
           "ticks": "",
           "title": {
            "standoff": 15
           },
           "zerolinecolor": "white",
           "zerolinewidth": 2
          }
         }
        },
        "title": {
         "text": "Maximal Arbitrage Value by L2 Chain (ETH / USDC) from December 31, 2023 to April 30, 2024"
        },
        "uniformtext": {
         "minsize": 8,
         "mode": "hide"
        },
        "xaxis": {
         "anchor": "y",
         "domain": [
          0,
          1
         ],
         "title": {
          "text": "MAV"
         }
        },
        "yaxis": {
         "anchor": "x",
         "categoryorder": "total ascending",
         "domain": [
          0,
          1
         ],
         "title": {
          "text": "Chain"
         }
        }
       }
      }
     },
     "metadata": {},
     "output_type": "display_data"
    }
   ],
   "source": [
    "fig = px.bar(\n",
    "    df_mav, \n",
    "    y='Chain', \n",
    "    x='MAV', \n",
    "    title='Maximal Arbitrage Value by L2 Chain (ETH / USDC) from December 31, 2023 to April 30, 2024', \n",
    "    labels={'MAV': 'MAV', 'Chain': 'Chain'},\n",
    "    color=df_mav['Chain'].apply(lambda x: 'Highlighted' if x == 'Starknet (Nostra V2)' else 'Normal')\n",
    ")\n",
    "\n",
    "fig.update_yaxes(categoryorder='total ascending')\n",
    "fig.update_layout(showlegend=False)\n",
    "fig.update_layout(uniformtext_minsize=8, uniformtext_mode='hide')\n",
    "fig.update_traces(texttemplate='%{x:.2s}', textposition='outside')\n",
    "\n",
    "fig.show()"
   ]
  },
  {
   "cell_type": "code",
   "execution_count": null,
   "metadata": {},
   "outputs": [],
   "source": []
  }
 ],
 "metadata": {
  "kernelspec": {
   "display_name": ".venv",
   "language": "python",
   "name": "python3"
  },
  "language_info": {
   "codemirror_mode": {
    "name": "ipython",
    "version": 3
   },
   "file_extension": ".py",
   "mimetype": "text/x-python",
   "name": "python",
   "nbconvert_exporter": "python",
   "pygments_lexer": "ipython3",
   "version": "3.12.4"
  }
 },
 "nbformat": 4,
 "nbformat_minor": 2
}
